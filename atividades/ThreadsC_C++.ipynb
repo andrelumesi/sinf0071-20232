{
  "nbformat": 4,
  "nbformat_minor": 0,
  "metadata": {
    "colab": {
      "provenance": [],
      "collapsed_sections": [
        "QtQI9Jq3A45T",
        "ZfExT7RgKyvx"
      ],
      "toc_visible": true,
      "authorship_tag": "ABX9TyOwKXh1Bt26Mz4j1XUo8FcC",
      "include_colab_link": true
    },
    "kernelspec": {
      "name": "python3",
      "display_name": "Python 3"
    },
    "language_info": {
      "name": "python"
    }
  },
  "cells": [
    {
      "cell_type": "markdown",
      "metadata": {
        "id": "view-in-github",
        "colab_type": "text"
      },
      "source": [
        "<a href=\"https://colab.research.google.com/github/andrelumesi/sinf0071-20232/blob/main/atividades/ThreadsC_C%2B%2B.ipynb\" target=\"_parent\"><img src=\"https://colab.research.google.com/assets/colab-badge.svg\" alt=\"Open In Colab\"/></a>"
      ]
    },
    {
      "cell_type": "markdown",
      "source": [
        "# Trabalhando com Threads no C/C++"
      ],
      "metadata": {
        "id": "pDBPyNkcVYZa"
      }
    },
    {
      "cell_type": "markdown",
      "source": [
        "##1.Instruções Gerais.\n",
        "1. As respostas das questões dos tutoriais devem ser colocadas no github do grupo, na pasta atividades\\atividadesthread.\n",
        "\n",
        "2. O prazo para entrega desta atividade é até 11/11.\n",
        "\n",
        "3. Em caso de atraso, o grupo sofrerá penalização na nota final de acordo com a quantidade de dias adicionais necessários para postagem da atividade em seu repositório."
      ],
      "metadata": {
        "id": "1sQ-YqBC2v8y"
      }
    },
    {
      "cell_type": "markdown",
      "source": [
        "## 2.PosixThreads\n",
        "\n",
        "- Biblioteca de Threads no espaço do usuário.\n",
        "\n",
        "- Oferece funções e tipos de dados para a criação, sincronização e comunicação entre threads.\n",
        "- Criação de Threads:\n",
        "  - O processo de criação de uma nova thread é realizado pela função pthread_create.\n",
        "  \n",
        "  ```\n",
        "  int pthread_create(pthread_t *thread, const pthread_attr_t *attr,\n",
        "                          void *(*start_routine) (void *), void *arg);\n",
        "  ```\n",
        "  Ele utiliza quatro parâmetros:\n",
        "\n",
        "\n",
        "1. Ponteiro para thread\n",
        "2. Um struct que define características da thread (atributos da thread)\n",
        "3. Ponteiro para função que a thread vai executar\n",
        "4. Parâmetros que serão usados por esta função.\n",
        "\n",
        "A seguir, um exemplo de código que demonstra o uso de ```pthread_create```. A diretiva ```%%writefile``` é usada para criar o arquivo ```criandothreads.c```. Execute para gerar o arquivo ```criandothreads.c```.\n",
        "\n",
        "  \n"
      ],
      "metadata": {
        "id": "qeR0bahRWg9-"
      }
    },
    {
      "cell_type": "code",
      "execution_count": null,
      "metadata": {
        "id": "xmd7N04HUuV3"
      },
      "outputs": [],
      "source": [
        "%%writefile criandothreads.c\n",
        "#include <pthread.h>\n",
        "#include <stdio.h>\n",
        "#include <stdlib.h>\n",
        "\n",
        "int f; // Dado compartilhado entre as threads\n",
        "void *funcaof(void *param); //Assinatura da função que será executada pela thread.\n",
        "\n",
        "int main(int argc, char *argv[]){\n",
        "    if (argc != 2 && atoi(argv[1]) < 0) {\n",
        "\t    fprintf(stderr,\"sintaxe: ./criandothreads <valor inteiro maior que 0>\\n\");\n",
        "\t    return -1;}\n",
        "\n",
        "    pthread_t thread1; //cria variável do tipo thread\n",
        "    pthread_attr_t attr; // cria variável do tipo atributo de thread\n",
        "    pthread_attr_init(&attr); // inicializa attr com valores padroes\n",
        "\n",
        "    pthread_create(&thread1,&attr,funcaof,argv[1]); // cria a thread\n",
        "\n",
        "    pthread_join(thread1,NULL);\n",
        "    printf(\"f = %d\\n\",f);\n",
        "}\n",
        "\n",
        "void *funcaof(void *param) {\n",
        "    int i, ultimo = atoi(param);\n",
        "    f = 0;\n",
        "\n",
        "\tif (ultimo > 0)\n",
        "\t\tfor (i = 1; i <= ultimo; i++)\n",
        "\t\t\tf += i;\n",
        "\n",
        "  pthread_exit(0);\n",
        "}"
      ]
    },
    {
      "cell_type": "markdown",
      "source": [
        "Para executar os comandos presentes no shell, utilizamos ```!``` antes do comando almejado.\n",
        "A seguir, chamamos o gcc para compilar o código, gerando como saída o executável ```criandothreadsbin```.  Em seguida, usamos ``` ./criandothreadsbin 10 ``` para executação do programa."
      ],
      "metadata": {
        "id": "FYQNh630VPn1"
      }
    },
    {
      "cell_type": "code",
      "source": [
        "!gcc criandothreads.c -o criandothreadsbin"
      ],
      "metadata": {
        "id": "SQWrx1LrVP3e"
      },
      "execution_count": 19,
      "outputs": []
    },
    {
      "cell_type": "code",
      "source": [
        "! ./criandothreadsbin 10"
      ],
      "metadata": {
        "id": "MPCbfwQNVhlZ"
      },
      "execution_count": null,
      "outputs": []
    },
    {
      "cell_type": "markdown",
      "source": [
        "### Questão 01. Mude o valor na chamada ``` criandothreadsbin ``` para ``` 20 ```. Qual foi o novo valor devolvido para ```f```?\n",
        "\n"
      ],
      "metadata": {
        "id": "aJSKahdtzSI7"
      }
    },
    {
      "cell_type": "markdown",
      "source": [
        "### Questão 02. O que faz a função ```funcaof```?"
      ],
      "metadata": {
        "id": "49_LLHeOWZKa"
      }
    },
    {
      "cell_type": "markdown",
      "source": [
        "###Questão 03. Crie uma nova funcao chamada ```funcaok``` e a variável global booleana ```k```. Esta funcao deverá executar em uma nova thread, denominada, ```thread2```.  ```funcaok``` apresenta mesma assinatura de ```funcaof```. No entanto, ```funcaok``` avalia se o valor passado como parâmetro é primo. Caso seja primo, ``` k = true ```, caso contrário, ``` k = false ```. Informe no método main (através de print) se o valor associado a k após execução de ```funcaok``` é ``` true ``` ou ``` false ```."
      ],
      "metadata": {
        "id": "Jy4-rrShzqck"
      }
    },
    {
      "cell_type": "markdown",
      "source": [
        "###Questão 04. Na caixa de código abaixo, execute o comando ```!unimize```, necessário para realização da Questões 05  e 06."
      ],
      "metadata": {
        "id": "bBAjvk2Z330U"
      }
    },
    {
      "cell_type": "code",
      "source": [
        "! unminimize"
      ],
      "metadata": {
        "id": "5fE-Om9Y3_VF"
      },
      "execution_count": null,
      "outputs": []
    },
    {
      "cell_type": "markdown",
      "source": [
        "###Questão 05 - Na caixa de código a seguir, utilize o comando ``` man ```  para ```pthread_create``` e informe em que casos uma nova thread é finalizada."
      ],
      "metadata": {
        "id": "QtQI9Jq3A45T"
      }
    },
    {
      "cell_type": "code",
      "source": [],
      "metadata": {
        "id": "heiXYUWW5HCl"
      },
      "execution_count": 53,
      "outputs": []
    },
    {
      "cell_type": "markdown",
      "source": [
        "###Questão 06. Investigue em https://docs.oracle.com/cd/E19455-01/806-5257/attrib-34610/index.html os valores associados por padrão pelo método ```pthread_attr_init``` a varáveis do tipo ```pthread_attr_t```. Apresente o significado de cada um deles."
      ],
      "metadata": {
        "id": "aTDMPCPW36Fi"
      }
    },
    {
      "cell_type": "markdown",
      "source": [
        "###Questão 07. Na caixa de código a seguir, utilize o comando ``` man ``` para ``` pthread_join ```  e informe para que serve este comando."
      ],
      "metadata": {
        "id": "ZfExT7RgKyvx"
      }
    },
    {
      "cell_type": "code",
      "source": [],
      "metadata": {
        "id": "Kqc5kMAVLB9v"
      },
      "execution_count": null,
      "outputs": []
    },
    {
      "cell_type": "markdown",
      "source": [
        "## 3.Threads em modo Kernel\n",
        "- No linux, threads são tasks\n",
        "  - Tanto threads como processos são tarefas. No entanto, thread é uma tarefa que compartilha recursos.\n",
        "  - A criação de threads é feita através da função clone():\n",
        "  ```\n",
        "    int clone(int (*fn)(void *), void *stack, int flags, void *arg)\n",
        "  ```\n",
        "  \n",
        "    onde:\n",
        "    - fn:ponteiro para função\n",
        "    - stack: ponteiro para o topo da stack\n",
        "    - flags: parâmetros que sinalizam o tipo de thread a ser gerado.\n",
        "    - arg: parâmetro da função\n",
        "\n",
        "- A seguir, temos código que apresenta exemplo de uso de clone. Execute-o para gerar o arquivo ```clone.c```.\n"
      ],
      "metadata": {
        "id": "SA9hPMZc3sKM"
      }
    },
    {
      "cell_type": "code",
      "source": [
        "%%writefile clone.c\n",
        "#define _GNU_SOURCE\n",
        "#include <sched.h>\n",
        "#include <stdio.h>\n",
        "#include <stdlib.h>\n",
        "#include <sys/wait.h>\n",
        "const int STACK_SIZE=65536; // Tamanho da Stack (65536 bytes ou 64 KiB).\n",
        "\n",
        "\n",
        "// Codigo da Thread\n",
        "int thread_code(void *arg){\n",
        "   int i = 0;\n",
        "   int n = atoi(arg);\n",
        "   printf(\"Executando na tarefa filha %d \\n\", n);\n",
        "   for ( i = 1 ; i <= 10 ; i++ )\n",
        "      printf(\"\\t thread(%d) = %d * %d = %d\\n\", n, n, i, (n*i));\n",
        "   printf(\"\\n\");\n",
        "   return 0;\n",
        "}\n",
        "\n",
        "void main(int argc, char *argv[]){\n",
        "  // Ponteiro para a base e topo da Stack\n",
        "   void* stack_base[argc-1];\n",
        "   void* stack_top[argc-1];\n",
        "\n",
        "   // ID de cada thread\n",
        "   int  pid[argc-1];\n",
        "\n",
        "   for (int j = 1; j < argc; j++){\n",
        "     // Alocacao das Stacks de cada thread\n",
        "   \t stack_base[j-1] = malloc(STACK_SIZE);\n",
        "     if(stack_base[j-1]==NULL) {\n",
        "        perror(\"malloc\");\n",
        "        exit(1);\n",
        "     }\n",
        "         // Topo da stack = base + tamanho da stack\n",
        "     stack_top[j-1] = stack_base[j-1] + STACK_SIZE;\n",
        "   }\n",
        "\n",
        "   printf (\"Foi alocado espaco para (%d) threads\\n\", argc-1);\n",
        "   for (int j = 1; j < argc; j++){\n",
        "        // Criando Threads\n",
        "        pid[j-1] = clone(thread_code, stack_top[j-1], CLONE_VM | CLONE_FS | CLONE_FILES | CLONE_SIGHAND, argv[j]);\n",
        "        if (pid[j-1] < 0) {\n",
        "            printf(\"Erro: Nao foi possivel criar a thread.\\n\");\n",
        "            exit(EXIT_FAILURE);\n",
        "        }\n",
        "   }\n",
        "\n",
        "   // Aguarda término das threads\n",
        "   for (int j = 1; j < argc; j ++)\n",
        "      wait(&pid[j-1]);\n",
        "\n",
        "   // Libera stack de cada thread\n",
        "   for (int j = 1; j < argc; j++){\n",
        "     free(stack_base[j-1]);\n",
        "   }\n",
        "   printf(\"Threads filhas finalizadas.\\n\");\n",
        "}\n"
      ],
      "metadata": {
        "id": "_fcRwhBpDoWH"
      },
      "execution_count": null,
      "outputs": []
    },
    {
      "cell_type": "markdown",
      "source": [
        "Para executar os comandos presentes no shell, utilizamos ```!``` antes do comando almejado.\n",
        "A seguir, chamamos o gcc para compilar o código, gerando como saída o executável ```clonebin```.  Em seguida, usamos ```./clonebin 1 2``` para executação do programa."
      ],
      "metadata": {
        "id": "9ETCrOXXE-36"
      }
    },
    {
      "cell_type": "code",
      "source": [
        "!gcc clone.c -o clonebin"
      ],
      "metadata": {
        "id": "8lbUN0OYFNXN"
      },
      "execution_count": 31,
      "outputs": []
    },
    {
      "cell_type": "code",
      "source": [
        "! ./clonebin 1 2"
      ],
      "metadata": {
        "id": "QapV7-e7FXFQ"
      },
      "execution_count": null,
      "outputs": []
    },
    {
      "cell_type": "markdown",
      "source": [
        "###Questão 08. O que foi impresso ao final da execução de ``` ./clonebin 1 2 ``` ? Na linha de código abaixo faça uma nova execução, chamando o programa da seguinte forma: ``` ./clonebin 5 6 7 8 ```. O que foi impresso?"
      ],
      "metadata": {
        "id": "CgucvwKdFrVI"
      }
    },
    {
      "cell_type": "code",
      "source": [
        "! ./clonebin 5 6 7 8"
      ],
      "metadata": {
        "id": "cTjq2s9SGAZY"
      },
      "execution_count": null,
      "outputs": []
    },
    {
      "cell_type": "markdown",
      "source": [
        "### Questão 09. Execute por mais vezes a chamada ``` ./clonebin 5 6 7 8 ```. As respostas de cada thread sempre são impressas na mesma ordem ou há mistura. ? Caso ocorra mistura, qual o motivo que leva a essa mistura?"
      ],
      "metadata": {
        "id": "epAgsetaGB7u"
      }
    },
    {
      "cell_type": "code",
      "source": [],
      "metadata": {
        "id": "WTzNFxZtJApc"
      },
      "execution_count": null,
      "outputs": []
    },
    {
      "cell_type": "markdown",
      "source": [
        "###Questão 10. Explique o que está sendo feito na função ``` int thread_code(void *arg)``` (linhas 11-19).\n"
      ],
      "metadata": {
        "id": "65zLwJZCHiHY"
      }
    },
    {
      "cell_type": "markdown",
      "source": [
        "###Questão 11. Na caixa de código a seguir, execute o comando ``` man ``` para a função ``` clone ```. Extraia do manual de ``` clone ```:\n",
        "1. Para que serve a função clone?\n",
        "2. Para que serve as constantes ``` CLONE_VM ```, ``` CLONE_FS ```, ``` CLONE_FILES ```, ``` CLONE_SIGHAND``` usadas pelo código na linha 43."
      ],
      "metadata": {
        "id": "NtHYt_ZUH4Cw"
      }
    },
    {
      "cell_type": "code",
      "source": [],
      "metadata": {
        "id": "7Y3GVDcFIkjt"
      },
      "execution_count": null,
      "outputs": []
    },
    {
      "cell_type": "markdown",
      "source": [
        "###Questão 12. Para que serve a região de memória denominada stack? Threads possuem stack. Elas são individuais ou compartilhadas, justifique."
      ],
      "metadata": {
        "id": "ptG4ygVtJLn6"
      }
    },
    {
      "cell_type": "markdown",
      "source": [
        "###Questão 13. Em clone.c qual o tamanho da stack adotada por cada thread? Explique o que acontece nas linhas [22-38] do código."
      ],
      "metadata": {
        "id": "RQRKkoyMJ9IC"
      }
    },
    {
      "cell_type": "markdown",
      "source": [
        "## 4.Criando processos filhos\n",
        "- Um processo é um programa em execução.\n",
        "- A criação de processos no Linux, pode ser feita através do método fork(), presente em unistd.h\n",
        "  - ``` pid_t fork(void); ```\n",
        "- fork cria um novo processo, através da duplicação do processo que gerou a chamada. O novo processo é denominado ﬁlho. O antigo,pai.\n",
        "- Filho e pai executam em espaços de memória diferentes, porém apresentam o mesmo código.\n",
        "- A seguir, apresentamos um exemplo de código ilustrando seu uso. Execute-o para gerar o arquivo ``` exemplo01.c ```"
      ],
      "metadata": {
        "id": "FkSDOteLSIpN"
      }
    },
    {
      "cell_type": "code",
      "source": [
        "%%writefile exemplo01.c\n",
        "#include <stdio.h>\n",
        "#include <sys/types.h>\n",
        "#include <unistd.h>\n",
        "#include <wait.h>\n",
        "\n",
        "int valor = 5;\n",
        "\n",
        "int main(){\n",
        "\tpid_t pid;\n",
        "\n",
        "\tpid = fork();\n",
        "\n",
        "\tif (pid == 0) {\n",
        "\t\tvalor += 15;\n",
        "    printf (\"Processo filho: valor = %d\\n\",valor);\n",
        "\t\treturn 0;\n",
        "\t}\n",
        "\telse if (pid > 0) {\n",
        "\t\twait(NULL);\n",
        "\t\tprintf (\"Processo pai: valor = %d\\n\",valor); /* LINE A */\n",
        "\t\treturn 0;\n",
        "\t}\n",
        "}"
      ],
      "metadata": {
        "id": "fQQc-YeKTALu"
      },
      "execution_count": null,
      "outputs": []
    },
    {
      "cell_type": "markdown",
      "source": [
        "Para executar os comandos presentes no shell, utilizamos ```!``` antes do comando almejado.\n",
        "A seguir, chamamos o gcc para compilar o código, gerando como saída o executável ```clonebin```.  Em seguida, usamos ```./clonebin 1 2``` para executação do programa."
      ],
      "metadata": {
        "id": "2yAeoGTpTmLs"
      }
    },
    {
      "cell_type": "code",
      "source": [
        "!gcc exemplo01.c -o exemplo01bin"
      ],
      "metadata": {
        "id": "bgCwJ7B_T6B8"
      },
      "execution_count": 49,
      "outputs": []
    },
    {
      "cell_type": "code",
      "source": [
        "!./exemplo01bin"
      ],
      "metadata": {
        "id": "UxVarVvVT5mi"
      },
      "execution_count": null,
      "outputs": []
    },
    {
      "cell_type": "markdown",
      "source": [
        "##Questão 14. Porque o processo pai e o processo filho apresentam valores diferentes para a variável global valor?"
      ],
      "metadata": {
        "id": "dUTwgR3RVPwh"
      }
    },
    {
      "cell_type": "markdown",
      "source": [
        "###Questão 15. Na caixa de código abaixo, use o comando ``` man ``` para consultar a função ``` fork ```. Qual o valor que ``` fork ``` devolve para o processo pai e para o processo filho?"
      ],
      "metadata": {
        "id": "r9YQSQCxVwyz"
      }
    },
    {
      "cell_type": "code",
      "source": [],
      "metadata": {
        "id": "jw6_AGNEWmjh"
      },
      "execution_count": null,
      "outputs": []
    },
    {
      "cell_type": "markdown",
      "source": [
        "###Questão 16. ``` getpid ``` é uma função que devolve o ``` process id ``` (identificador único) do processo em execução. Baseado nessa informação, execute as seguintes caixas de código para geração do arquivo ``` exemplo02.c ```, compilação e execução."
      ],
      "metadata": {
        "id": "Dn2UCjPcWziZ"
      }
    },
    {
      "cell_type": "code",
      "source": [
        "%%writefile exemplo02.c\n",
        "#include <stdio.h>\n",
        "#include <unistd.h>\n",
        "\n",
        "int main()\n",
        "{\n",
        "\tprintf(\"%d\\n\",getpid());\n",
        "\tfork();\n",
        "\tprintf(\"%d\\n\",getpid());\n",
        "\n",
        "\n",
        "\tfork();\n",
        "\tprintf(\"%d\\n\",getpid());\n",
        "\n",
        "\tfork();\n",
        "\tprintf(\"%d\\n\",getpid());\n",
        "\n",
        "\treturn 0;\n",
        "}"
      ],
      "metadata": {
        "id": "GGopYPyWXtNH"
      },
      "execution_count": null,
      "outputs": []
    },
    {
      "cell_type": "code",
      "source": [
        "!gcc exemplo02.c -o exemplo02bin"
      ],
      "metadata": {
        "id": "iMGgBpcAXtiz"
      },
      "execution_count": 52,
      "outputs": []
    },
    {
      "cell_type": "code",
      "source": [
        "!./exemplo02bin"
      ],
      "metadata": {
        "id": "ceKiIwVFXuBg"
      },
      "execution_count": null,
      "outputs": []
    },
    {
      "cell_type": "markdown",
      "source": [
        "###Questão 17. Baseado na execução da Questão 16, o que significam os números que foram impressos? Quantos números diferentes temos após a execução do código? Quantos processos foram criados durante a execução desse código?"
      ],
      "metadata": {
        "id": "OInYBGRzYsUL"
      }
    },
    {
      "cell_type": "markdown",
      "source": [
        "###Questão 18. É possível associar uma fórmula que informe a quantidade de processos criados a depender da quantidade de forks? Considere ``` n```, como sendo a quantidade de forks e ``` nps ```, como sendo a quantidade de processos criados."
      ],
      "metadata": {
        "id": "_XyiZuQjZhSp"
      }
    },
    {
      "cell_type": "markdown",
      "source": [
        "###Questão 19. Use as caixas de código a seguir para modificar, compilar e executar ``` 10processos.c ```. Ao final da execução de ``` 10processos.c ```, devem ser gerados 10 processos."
      ],
      "metadata": {
        "id": "PxSQ0pFpaO-J"
      }
    },
    {
      "cell_type": "code",
      "source": [
        "%%writefile 10processos.c\n",
        "#include <stdio.h>\n",
        "#include <unistd.h>\n",
        "\n",
        "int main()\n",
        "{\n",
        "\tprintf(\"%d\\n\",getpid());\n",
        "\tfork();\n",
        "\tprintf(\"%d\\n\",getpid());\n",
        "\n",
        "\n",
        "\tfork();\n",
        "\tprintf(\"%d\\n\",getpid());\n",
        "\n",
        "\tfork();\n",
        "\tprintf(\"%d\\n\",getpid());\n",
        "\n",
        "\treturn 0;\n",
        "}"
      ],
      "metadata": {
        "id": "slb5tuXbacmB"
      },
      "execution_count": null,
      "outputs": []
    },
    {
      "cell_type": "code",
      "source": [
        "!gcc 10processos.c -o 10processosbin"
      ],
      "metadata": {
        "id": "pg8vO4hjadTb"
      },
      "execution_count": null,
      "outputs": []
    },
    {
      "cell_type": "code",
      "source": [
        "!./10processosbin"
      ],
      "metadata": {
        "id": "zM_q0uyladH9"
      },
      "execution_count": null,
      "outputs": []
    }
  ]
}