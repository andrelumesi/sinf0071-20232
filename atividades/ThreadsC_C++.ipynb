{
  "nbformat": 4,
  "nbformat_minor": 0,
  "metadata": {
    "colab": {
      "provenance": [],
      "collapsed_sections": [
        "QtQI9Jq3A45T",
        "ZfExT7RgKyvx"
      ],
      "toc_visible": true,
      "authorship_tag": "ABX9TyOwKXh1Bt26Mz4j1XUo8FcC",
      "include_colab_link": true
    },
    "kernelspec": {
      "name": "python3",
      "display_name": "Python 3"
    },
    "language_info": {
      "name": "python"
    }
  },
  "cells": [
    {
      "cell_type": "markdown",
      "metadata": {
        "id": "view-in-github",
        "colab_type": "text"
      },
      "source": [
        "<a href=\"https://colab.research.google.com/github/andrelumesi/sinf0071-20232/blob/main/atividades/ThreadsC_C%2B%2B.ipynb\" target=\"_parent\"><img src=\"https://colab.research.google.com/assets/colab-badge.svg\" alt=\"Open In Colab\"/></a>"
      ]
    },
    {
      "cell_type": "markdown",
      "source": [
        "# Trabalhando com Threads no C/C++"
      ],
      "metadata": {
        "id": "pDBPyNkcVYZa"
      }
    },
    {
      "cell_type": "markdown",
      "source": [
        "##1.Instruções Gerais.\n",
        "1. As respostas das questões dos tutoriais devem ser colocadas no github do grupo, na pasta atividades\\atividadesthread.\n",
        "\n",
        "2. O prazo para entrega desta atividade é até 11/11.\n",
        "\n",
        "3. Em caso de atraso, o grupo sofrerá penalização na nota final de acordo com a quantidade de dias adicionais necessários para postagem da atividade em seu repositório."
      ],
      "metadata": {
        "id": "1sQ-YqBC2v8y"
      }
    },
    {
      "cell_type": "markdown",
      "source": [
        "## 2.PosixThreads\n",
        "\n",
        "- Biblioteca de Threads no espaço do usuário.\n",
        "\n",
        "- Oferece funções e tipos de dados para a criação, sincronização e comunicação entre threads.\n",
        "- Criação de Threads:\n",
        "  - O processo de criação de uma nova thread é realizado pela função pthread_create.\n",
        "  \n",
        "  ```\n",
        "  int pthread_create(pthread_t *thread, const pthread_attr_t *attr,\n",
        "                          void *(*start_routine) (void *), void *arg);\n",
        "  ```\n",
        "  Ele utiliza quatro parâmetros:\n",
        "\n",
        "\n",
        "1. Ponteiro para thread\n",
        "2. Um struct que define características da thread (atributos da thread)\n",
        "3. Ponteiro para função que a thread vai executar\n",
        "4. Parâmetros que serão usados por esta função.\n",
        "\n",
        "A seguir, um exemplo de código que demonstra o uso de ```pthread_create```. A diretiva ```%%writefile``` é usada para criar o arquivo ```criandothreads.c```. Execute para gerar o arquivo ```criandothreads.c```.\n",
        "\n",
        "  \n"
      ],
      "metadata": {
        "id": "qeR0bahRWg9-"
      }
    },
    {
      "cell_type": "code",
      "execution_count": 18,
      "metadata": {
        "colab": {
          "base_uri": "https://localhost:8080/",
          "height": 0
        },
        "id": "xmd7N04HUuV3",
        "outputId": "f1efb3ca-d51c-47a3-e78e-b7c0d70730ab"
      },
      "outputs": [
        {
          "output_type": "stream",
          "name": "stdout",
          "text": [
            "Overwriting criandothreads.c\n"
          ]
        }
      ],
      "source": [
        "%%writefile criandothreads.c\n",
        "#include <pthread.h>\n",
        "#include <stdio.h>\n",
        "#include <stdlib.h>\n",
        "\n",
        "int f; // Dado compartilhado entre as threads\n",
        "void *funcaof(void *param); //Assinatura da função que será executada pela thread.\n",
        "\n",
        "int main(int argc, char *argv[]){\n",
        "    if (argc != 2 && atoi(argv[1]) < 0) {\n",
        "\t    fprintf(stderr,\"sintaxe: ./criandothreads <valor inteiro maior que 0>\\n\");\n",
        "\t    return -1;}\n",
        "\n",
        "    pthread_t thread1; //cria variável do tipo thread\n",
        "    pthread_attr_t attr; // cria variável do tipo atributo de thread\n",
        "    pthread_attr_init(&attr); // inicializa attr com valores padroes\n",
        "\n",
        "    pthread_create(&thread1,&attr,funcaof,argv[1]); // cria a thread\n",
        "\n",
        "    pthread_join(thread1,NULL);\n",
        "    printf(\"f = %d\\n\",f);\n",
        "}\n",
        "\n",
        "void *funcaof(void *param) {\n",
        "    int i, ultimo = atoi(param);\n",
        "    f = 0;\n",
        "\n",
        "\tif (ultimo > 0)\n",
        "\t\tfor (i = 1; i <= ultimo; i++)\n",
        "\t\t\tf += i;\n",
        "\n",
        "  pthread_exit(0);\n",
        "}"
      ]
    },
    {
      "cell_type": "markdown",
      "source": [
        "Para executar os comandos presentes no shell, utilizamos ```!``` antes do comando almejado.\n",
        "A seguir, chamamos o gcc para compilar o código, gerando como saída o executável ```criandothreadsbin```.  Em seguida, usamos ``` ./criandothreadsbin 10 ``` para executação do programa."
      ],
      "metadata": {
        "id": "FYQNh630VPn1"
      }
    },
    {
      "cell_type": "code",
      "source": [
        "!gcc criandothreads.c -o criandothreadsbin"
      ],
      "metadata": {
        "id": "SQWrx1LrVP3e"
      },
      "execution_count": 19,
      "outputs": []
    },
    {
      "cell_type": "code",
      "source": [
        "! ./criandothreadsbin 10"
      ],
      "metadata": {
        "colab": {
          "base_uri": "https://localhost:8080/",
          "height": 0
        },
        "id": "MPCbfwQNVhlZ",
        "outputId": "0302895c-a00f-4f92-c3d4-2b3d40ef0e56"
      },
      "execution_count": 20,
      "outputs": [
        {
          "output_type": "stream",
          "name": "stdout",
          "text": [
            "f = 55\n"
          ]
        }
      ]
    },
    {
      "cell_type": "markdown",
      "source": [
        "### Questão 01. Mude o valor na chamada ``` criandothreadsbin ``` para ``` 20 ```. Qual foi o novo valor devolvido para ```f```?\n",
        "\n"
      ],
      "metadata": {
        "id": "aJSKahdtzSI7"
      }
    },
    {
      "cell_type": "markdown",
      "source": [
        "### Questão 02. O que faz a função ```funcaof```?"
      ],
      "metadata": {
        "id": "49_LLHeOWZKa"
      }
    },
    {
      "cell_type": "markdown",
      "source": [
        "###Questão 03. Crie uma nova funcao chamada ```funcaok``` e a variável global booleana ```k```. Esta funcao deverá executar em uma nova thread, denominada, ```thread2```.  ```funcaok``` apresenta mesma assinatura de ```funcaof```. No entanto, ```funcaok``` avalia se o valor passado como parâmetro é primo. Caso seja primo, ``` k = true ```, caso contrário, ``` k = false ```. Informe no método main (através de print) se o valor associado a k após execução de ```funcaok``` é ``` true ``` ou ``` false ```."
      ],
      "metadata": {
        "id": "Jy4-rrShzqck"
      }
    },
    {
      "cell_type": "markdown",
      "source": [
        "###Questão 04. Na caixa de código abaixo, execute o comando ```!unimize```, necessário para realização da Questões 05  e 06."
      ],
      "metadata": {
        "id": "bBAjvk2Z330U"
      }
    },
    {
      "cell_type": "code",
      "source": [
        "! unminimize"
      ],
      "metadata": {
        "colab": {
          "base_uri": "https://localhost:8080/",
          "height": 0
        },
        "id": "5fE-Om9Y3_VF",
        "outputId": "b1bcb07a-cb45-4d38-a925-196dd8443b3f"
      },
      "execution_count": 26,
      "outputs": [
        {
          "output_type": "stream",
          "name": "stdout",
          "text": [
            "This system has been minimized by removing packages and content that are\n",
            "not required on a system that users do not log into.\n",
            "\n",
            "This script restores content and packages that are found on a default\n",
            "Ubuntu server system in order to make this system more suitable for\n",
            "interactive use.\n",
            "\n",
            "Reinstallation of packages may fail due to changes to the system\n",
            "configuration, the presence of third-party packages, or for other\n",
            "reasons.\n",
            "\n",
            "This operation may take some time.\n",
            "\n",
            "Would you like to continue? [y/N] y\n",
            "\n"
          ]
        }
      ]
    },
    {
      "cell_type": "markdown",
      "source": [
        "###Questão 05 - Na caixa de código a seguir, utilize o comando ``` man ```  para ```pthread_create``` e informe em que casos uma nova thread é finalizada."
      ],
      "metadata": {
        "id": "QtQI9Jq3A45T"
      }
    },
    {
      "cell_type": "code",
      "source": [],
      "metadata": {
        "colab": {
          "base_uri": "https://localhost:8080/",
          "height": 0
        },
        "id": "heiXYUWW5HCl",
        "outputId": "25d41ffe-a7a7-44df-bfa8-47fab48d8779"
      },
      "execution_count": 29,
      "outputs": [
        {
          "output_type": "stream",
          "name": "stdout",
          "text": [
            "PTHREAD_CREATE(3)                   Linux Programmer's Manual                   PTHREAD_CREATE(3)\n",
            "\n",
            "N\bNA\bAM\bME\bE\n",
            "       pthread_create - create a new thread\n",
            "\n",
            "S\bSY\bYN\bNO\bOP\bPS\bSI\bIS\bS\n",
            "       #\b#i\bin\bnc\bcl\blu\bud\bde\be <\b<p\bpt\bth\bhr\bre\bea\bad\bd.\b.h\bh>\b>\n",
            "\n",
            "       i\bin\bnt\bt p\bpt\bth\bhr\bre\bea\bad\bd_\b_c\bcr\bre\bea\bat\bte\be(\b(p\bpt\bth\bhr\bre\bea\bad\bd_\b_t\bt *\b*_\bt_\bh_\br_\be_\ba_\bd,\b, c\bco\bon\bns\bst\bt p\bpt\bth\bhr\bre\bea\bad\bd_\b_a\bat\btt\btr\br_\b_t\bt *\b*_\ba_\bt_\bt_\br,\b,\n",
            "                          v\bvo\boi\bid\bd *\b*(\b(*\b*_\bs_\bt_\ba_\br_\bt_\b__\br_\bo_\bu_\bt_\bi_\bn_\be)\b) (\b(v\bvo\boi\bid\bd *\b*)\b),\b, v\bvo\boi\bid\bd *\b*_\ba_\br_\bg)\b);\b;\n",
            "\n",
            "       Compile and link with _\b-_\bp_\bt_\bh_\br_\be_\ba_\bd.\n",
            "\n",
            "D\bDE\bES\bSC\bCR\bRI\bIP\bPT\bTI\bIO\bON\bN\n",
            "       The  p\bpt\bth\bhr\bre\bea\bad\bd_\b_c\bcr\bre\bea\bat\bte\be() function starts a new thread in the calling process.  The new thread\n",
            "       starts execution by invoking _\bs_\bt_\ba_\br_\bt_\b__\br_\bo_\bu_\bt_\bi_\bn_\be(); _\ba_\br_\bg  is  passed  as  the  sole  argument  of\n",
            "       _\bs_\bt_\ba_\br_\bt_\b__\br_\bo_\bu_\bt_\bi_\bn_\be().\n",
            "\n",
            "       The new thread terminates in one of the following ways:\n",
            "\n",
            "       * It  calls  p\bpt\bth\bhr\bre\bea\bad\bd_\b_e\bex\bxi\bit\bt(3), specifying an exit status value that is available to another\n",
            "         thread in the same process that calls p\bpt\bth\bhr\bre\bea\bad\bd_\b_j\bjo\boi\bin\bn(3).\n",
            "\n",
            "       * It returns from _\bs_\bt_\ba_\br_\bt_\b__\br_\bo_\bu_\bt_\bi_\bn_\be().  This is equivalent to calling p\bpt\bth\bhr\bre\bea\bad\bd_\b_e\bex\bxi\bit\bt(3) with the\n",
            "         value supplied in the _\br_\be_\bt_\bu_\br_\bn statement.\n",
            "\n",
            "       * It is canceled (see p\bpt\bth\bhr\bre\bea\bad\bd_\b_c\bca\ban\bnc\bce\bel\bl(3)).\n",
            "\n",
            "       * Any  of  the  threads in the process calls e\bex\bxi\bit\bt(3), or the main thread performs a return\n",
            "         from _\bm_\ba_\bi_\bn().  This causes the termination of all threads in the process.\n",
            "\n",
            "       The _\ba_\bt_\bt_\br argument points to a _\bp_\bt_\bh_\br_\be_\ba_\bd_\b__\ba_\bt_\bt_\br_\b__\bt structure whose contents are used  at  thread\n",
            "       creation  time  to  determine attributes for the new thread; this structure is initialized\n",
            "       using p\bpt\bth\bhr\bre\bea\bad\bd_\b_a\bat\btt\btr\br_\b_i\bin\bni\bit\bt(3) and related functions.  If _\ba_\bt_\bt_\br is NULL,  then  the  thread  is\n",
            "       created with default attributes.\n",
            "\n",
            "       Before returning, a successful call to p\bpt\bth\bhr\bre\bea\bad\bd_\b_c\bcr\bre\bea\bat\bte\be() stores the ID of the new thread in\n",
            "       the buffer pointed to by _\bt_\bh_\br_\be_\ba_\bd; this identifier is used to refer to the thread in  subse‐\n",
            "       quent calls to other pthreads functions.\n",
            "\n",
            "       The  new thread inherits a copy of the creating thread's signal mask (p\bpt\bth\bhr\bre\bea\bad\bd_\b_s\bsi\big\bgm\bma\bas\bsk\bk(3)).\n",
            "       The set of pending signals for the new thread is empty (s\bsi\big\bgp\bpe\ben\bnd\bdi\bin\bng\bg(2)).   The  new  thread\n",
            "       does not inherit the creating thread's alternate signal stack (s\bsi\big\bga\bal\blt\bts\bst\bta\bac\bck\bk(2)).\n",
            "\n",
            "       The new thread inherits the calling thread's floating-point environment (f\bfe\ben\bnv\bv(3)).\n",
            "\n",
            "       The initial value of the new thread's CPU-time clock is 0 (see p\bpt\bth\bhr\bre\bea\bad\bd_\b_g\bge\bet\btc\bcp\bpu\buc\bcl\blo\boc\bck\bki\bid\bd(3)).\n",
            "\n",
            "   L\bLi\bin\bnu\bux\bx-\b-s\bsp\bpe\bec\bci\bif\bfi\bic\bc d\bde\bet\bta\bai\bil\bls\bs\n",
            "       The  new  thread  inherits  copies  of the calling thread's capability sets (see c\bca\bap\bpa\bab\bbi\bil\bli\bi‐\b‐\n",
            "       t\bti\bie\bes\bs(7)) and CPU affinity mask (see s\bsc\bch\bhe\bed\bd_\b_s\bse\bet\bta\baf\bff\bfi\bin\bni\bit\bty\by(2)).\n",
            "\n",
            "R\bRE\bET\bTU\bUR\bRN\bN V\bVA\bAL\bLU\bUE\bE\n",
            "       On success, p\bpt\bth\bhr\bre\bea\bad\bd_\b_c\bcr\bre\bea\bat\bte\be() returns 0; on error, it returns an error number, and the con‐\n",
            "       tents of _\b*_\bt_\bh_\br_\be_\ba_\bd are undefined.\n",
            "\n",
            "E\bER\bRR\bRO\bOR\bRS\bS\n",
            "       E\bEA\bAG\bGA\bAI\bIN\bN Insufficient resources to create another thread.\n",
            "\n",
            "       E\bEA\bAG\bGA\bAI\bIN\bN A  system-imposed limit on the number of threads was encountered.  There are a num‐\n",
            "              ber of limits that may trigger this error: the  R\bRL\bLI\bIM\bMI\bIT\bT_\b_N\bNP\bPR\bRO\bOC\bC  soft  resource  limit\n",
            "              (set via s\bse\bet\btr\brl\bli\bim\bmi\bit\bt(2)), which limits the number of processes and threads for a real\n",
            "              user ID, was reached; the kernel's system-wide limit on the number of processes and\n",
            "              threads,  _\b/_\bp_\br_\bo_\bc_\b/_\bs_\by_\bs_\b/_\bk_\be_\br_\bn_\be_\bl_\b/_\bt_\bh_\br_\be_\ba_\bd_\bs_\b-_\bm_\ba_\bx,  was  reached (see p\bpr\bro\boc\bc(5)); or the maximum\n",
            "              number of PIDs, _\b/_\bp_\br_\bo_\bc_\b/_\bs_\by_\bs_\b/_\bk_\be_\br_\bn_\be_\bl_\b/_\bp_\bi_\bd_\b__\bm_\ba_\bx, was reached (see p\bpr\bro\boc\bc(5)).\n",
            "\n",
            "       E\bEI\bIN\bNV\bVA\bAL\bL Invalid settings in _\ba_\bt_\bt_\br.\n",
            "\n",
            "       E\bEP\bPE\bER\bRM\bM  No permission to set the scheduling policy and parameters specified in _\ba_\bt_\bt_\br.\n",
            "\n",
            "A\bAT\bTT\bTR\bRI\bIB\bBU\bUT\bTE\bES\bS\n",
            "       For an explanation of the terms used in this section, see a\bat\btt\btr\bri\bib\bbu\but\bte\bes\bs(7).\n",
            "\n",
            "       ┌─────────────────┬───────────────┬─────────┐\n",
            "       │I\bIn\bnt\bte\ber\brf\bfa\bac\bce\be        │ A\bAt\btt\btr\bri\bib\bbu\but\bte\be     │ V\bVa\bal\blu\bue\be   │\n",
            "       ├─────────────────┼───────────────┼─────────┤\n",
            "       │p\bpt\bth\bhr\bre\bea\bad\bd_\b_c\bcr\bre\bea\bat\bte\be() │ Thread safety │ MT-Safe │\n",
            "       └─────────────────┴───────────────┴─────────┘\n",
            "\n",
            "C\bCO\bON\bNF\bFO\bOR\bRM\bMI\bIN\bNG\bG T\bTO\bO\n",
            "       POSIX.1-2001, POSIX.1-2008.\n",
            "\n",
            "N\bNO\bOT\bTE\bES\bS\n",
            "       See p\bpt\bth\bhr\bre\bea\bad\bd_\b_s\bse\bel\blf\bf(3) for further information on  the  thread  ID  returned  in  _\b*_\bt_\bh_\br_\be_\ba_\bd  by\n",
            "       p\bpt\bth\bhr\bre\bea\bad\bd_\b_c\bcr\bre\bea\bat\bte\be().   Unless  real-time scheduling policies are being employed, after a call\n",
            "       to p\bpt\bth\bhr\bre\bea\bad\bd_\b_c\bcr\bre\bea\bat\bte\be(), it is indeterminate which thread—the caller or  the  new  thread—will\n",
            "       next execute.\n",
            "\n",
            "       A thread may either be _\bj_\bo_\bi_\bn_\ba_\bb_\bl_\be or _\bd_\be_\bt_\ba_\bc_\bh_\be_\bd.  If a thread is joinable, then another thread\n",
            "       can call p\bpt\bth\bhr\bre\bea\bad\bd_\b_j\bjo\boi\bin\bn(3) to wait for the thread to terminate and fetch  its  exit  status.\n",
            "       Only  when  a terminated joinable thread has been joined are the last of its resources re‐\n",
            "       leased back to the system.  When a detached thread terminates, its resources are automati‐\n",
            "       cally  released back to the system: it is not possible to join with the thread in order to\n",
            "       obtain its exit status.  Making a thread detached is  useful  for  some  types  of  daemon\n",
            "       threads  whose exit status the application does not need to care about.  By default, a new\n",
            "       thread is created in a joinable state, unless _\ba_\bt_\bt_\br was set to create the thread in  a  de‐\n",
            "       tached state (using p\bpt\bth\bhr\bre\bea\bad\bd_\b_a\bat\btt\btr\br_\b_s\bse\bet\btd\bde\bet\bta\bac\bch\bhs\bst\bta\bat\bte\be(3)).\n",
            "\n",
            "       Under  the  NPTL  threading implementation, if the R\bRL\bLI\bIM\bMI\bIT\bT_\b_S\bST\bTA\bAC\bCK\bK soft resource limit _\ba_\bt _\bt_\bh_\be\n",
            "       _\bt_\bi_\bm_\be _\bt_\bh_\be _\bp_\br_\bo_\bg_\br_\ba_\bm _\bs_\bt_\ba_\br_\bt_\be_\bd has any value other than \"unlimited\", then it determines the  de‐\n",
            "       fault  stack  size of new threads.  Using p\bpt\bth\bhr\bre\bea\bad\bd_\b_a\bat\btt\btr\br_\b_s\bse\bet\bts\bst\bta\bac\bck\bks\bsi\biz\bze\be(3), the stack size at‐\n",
            "       tribute can be explicitly set in the _\ba_\bt_\bt_\br argument used to create a thread,  in  order  to\n",
            "       obtain  a stack size other than the default.  If the R\bRL\bLI\bIM\bMI\bIT\bT_\b_S\bST\bTA\bAC\bCK\bK resource limit is set to\n",
            "       \"unlimited\", a per-architecture value is used for the stack size.  Here is the value for a\n",
            "       few architectures:\n",
            "\n",
            "              ┌─────────────┬────────────────────┐\n",
            "              │A\bAr\brc\bch\bhi\bit\bte\bec\bct\btu\bur\bre\be │ D\bDe\bef\bfa\bau\bul\blt\bt s\bst\bta\bac\bck\bk s\bsi\biz\bze\be │\n",
            "              ├─────────────┼────────────────────┤\n",
            "              │i386         │               2 MB │\n",
            "              ├─────────────┼────────────────────┤\n",
            "              │IA-64        │              32 MB │\n",
            "              ├─────────────┼────────────────────┤\n",
            "              │PowerPC      │               4 MB │\n",
            "              ├─────────────┼────────────────────┤\n",
            "              │S/390        │               2 MB │\n",
            "              ├─────────────┼────────────────────┤\n",
            "              │Sparc-32     │               2 MB │\n",
            "              ├─────────────┼────────────────────┤\n",
            "              │Sparc-64     │               4 MB │\n",
            "              ├─────────────┼────────────────────┤\n",
            "              │x86_64       │               2 MB │\n",
            "              └─────────────┴────────────────────┘\n",
            "B\bBU\bUG\bGS\bS\n",
            "       In  the  obsolete LinuxThreads implementation, each of the threads in a process has a dif‐\n",
            "       ferent process ID.  This is in violation of the POSIX threads specification,  and  is  the\n",
            "       source of many other nonconformances to the standard; see p\bpt\bth\bhr\bre\bea\bad\bds\bs(7).\n",
            "\n",
            "E\bEX\bXA\bAM\bMP\bPL\bLE\bES\bS\n",
            "       The  program  below demonstrates the use of p\bpt\bth\bhr\bre\bea\bad\bd_\b_c\bcr\bre\bea\bat\bte\be(), as well as a number of other\n",
            "       functions in the pthreads API.\n",
            "\n",
            "       In the following run, on a system providing the NPTL threading implementation,  the  stack\n",
            "       size defaults to the value given by the \"stack size\" resource limit:\n",
            "\n",
            "           $ u\bul\bli\bim\bmi\bit\bt -\b-s\bs\n",
            "           8192            # The stack size limit is 8 MB (0x800000 bytes)\n",
            "           $ .\b./\b/a\ba.\b.o\bou\but\bt h\bho\bol\bla\ba s\bsa\bal\blu\but\bt s\bse\ber\brv\bvu\bus\bs\n",
            "           Thread 1: top of stack near 0xb7dd03b8; argv_string=hola\n",
            "           Thread 2: top of stack near 0xb75cf3b8; argv_string=salut\n",
            "           Thread 3: top of stack near 0xb6dce3b8; argv_string=servus\n",
            "           Joined with thread 1; returned value was HOLA\n",
            "           Joined with thread 2; returned value was SALUT\n",
            "           Joined with thread 3; returned value was SERVUS\n",
            "\n",
            "       In the next run, the program explicitly sets a stack size of 1 MB (using p\bpt\bth\bhr\bre\bea\bad\bd_\b_a\bat\btt\btr\br_\b_s\bse\bet\bt‐\b‐\n",
            "       s\bst\bta\bac\bck\bks\bsi\biz\bze\be(3)) for the created threads:\n",
            "\n",
            "           $ .\b./\b/a\ba.\b.o\bou\but\bt -\b-s\bs 0\b0x\bx1\b10\b00\b00\b00\b00\b0 h\bho\bol\bla\ba s\bsa\bal\blu\but\bt s\bse\ber\brv\bvu\bus\bs\n",
            "           Thread 1: top of stack near 0xb7d723b8; argv_string=hola\n",
            "           Thread 2: top of stack near 0xb7c713b8; argv_string=salut\n",
            "           Thread 3: top of stack near 0xb7b703b8; argv_string=servus\n",
            "           Joined with thread 1; returned value was HOLA\n",
            "           Joined with thread 2; returned value was SALUT\n",
            "           Joined with thread 3; returned value was SERVUS\n",
            "\n",
            "   P\bPr\bro\bog\bgr\bra\bam\bm s\bso\bou\bur\brc\bce\be\n",
            "\n",
            "       #include <pthread.h>\n",
            "       #include <string.h>\n",
            "       #include <stdio.h>\n",
            "       #include <stdlib.h>\n",
            "       #include <unistd.h>\n",
            "       #include <errno.h>\n",
            "       #include <ctype.h>\n",
            "\n",
            "       #define handle_error_en(en, msg) \\\n",
            "               do { errno = en; perror(msg); exit(EXIT_FAILURE); } while (0)\n",
            "\n",
            "       #define handle_error(msg) \\\n",
            "               do { perror(msg); exit(EXIT_FAILURE); } while (0)\n",
            "\n",
            "       struct thread_info {    /* Used as argument to thread_start() */\n",
            "           pthread_t thread_id;        /* ID returned by pthread_create() */\n",
            "           int       thread_num;       /* Application-defined thread # */\n",
            "           char     *argv_string;      /* From command-line argument */\n",
            "       };\n",
            "\n",
            "       /* Thread start function: display address near top of our stack,\n",
            "          and return upper-cased copy of argv_string */\n",
            "\n",
            "       static void *\n",
            "       thread_start(void *arg)\n",
            "       {\n",
            "           struct thread_info *tinfo = arg;\n",
            "           char *uargv;\n",
            "\n",
            "           printf(\"Thread %d: top of stack near %p; argv_string=%s\\n\",\n",
            "                   tinfo->thread_num, &p, tinfo->argv_string);\n",
            "\n",
            "           uargv = strdup(tinfo->argv_string);\n",
            "           if (uargv == NULL)\n",
            "               handle_error(\"strdup\");\n",
            "\n",
            "           for (char *p = uargv; *p != '\\0'; p++)\n",
            "               *p = toupper(*p);\n",
            "\n",
            "           return uargv;\n",
            "       }\n",
            "\n",
            "       int\n",
            "       main(int argc, char *argv[])\n",
            "       {\n",
            "           int s, opt, num_threads;\n",
            "           pthread_attr_t attr;\n",
            "           size_t stack_size;\n",
            "           void *res;\n",
            "\n",
            "           /* The \"-s\" option specifies a stack size for our threads */\n",
            "\n",
            "           stack_size = -1;\n",
            "           while ((opt = getopt(argc, argv, \"s:\")) != -1) {\n",
            "               switch (opt) {\n",
            "               case 's':\n",
            "                   stack_size = strtoul(optarg, NULL, 0);\n",
            "                   break;\n",
            "\n",
            "               default:\n",
            "                   fprintf(stderr, \"Usage: %s [-s stack-size] arg...\\n\",\n",
            "                           argv[0]);\n",
            "                   exit(EXIT_FAILURE);\n",
            "               }\n",
            "           }\n",
            "\n",
            "           num_threads = argc - optind;\n",
            "\n",
            "           /* Initialize thread creation attributes */\n",
            "\n",
            "           s = pthread_attr_init(&attr);\n",
            "           if (s != 0)\n",
            "               handle_error_en(s, \"pthread_attr_init\");\n",
            "\n",
            "           if (stack_size > 0) {\n",
            "               s = pthread_attr_setstacksize(&attr, stack_size);\n",
            "               if (s != 0)\n",
            "                   handle_error_en(s, \"pthread_attr_setstacksize\");\n",
            "           }\n",
            "\n",
            "           /* Allocate memory for pthread_create() arguments */\n",
            "\n",
            "           struct thread_info *tinfo = calloc(num_threads, sizeof(*tinfo));\n",
            "           if (tinfo == NULL)\n",
            "               handle_error(\"calloc\");\n",
            "\n",
            "           /* Create one thread for each command-line argument */\n",
            "\n",
            "           for (int tnum = 0; tnum < num_threads; tnum++) {\n",
            "               tinfo[tnum].thread_num = tnum + 1;\n",
            "               tinfo[tnum].argv_string = argv[optind + tnum];\n",
            "\n",
            "               /* The pthread_create() call stores the thread ID into\n",
            "                  corresponding element of tinfo[] */\n",
            "\n",
            "               s = pthread_create(&tinfo[tnum].thread_id, &attr,\n",
            "                                  &thread_start, &tinfo[tnum]);\n",
            "               if (s != 0)\n",
            "                   handle_error_en(s, \"pthread_create\");\n",
            "           }\n",
            "\n",
            "           /* Destroy the thread attributes object, since it is no\n",
            "              longer needed */\n",
            "\n",
            "           s = pthread_attr_destroy(&attr);\n",
            "           if (s != 0)\n",
            "               handle_error_en(s, \"pthread_attr_destroy\");\n",
            "\n",
            "           /* Now join with each thread, and display its returned value */\n",
            "\n",
            "           for (int tnum = 0; tnum < num_threads; tnum++) {\n",
            "               s = pthread_join(tinfo[tnum].thread_id, &res);\n",
            "               if (s != 0)\n",
            "                   handle_error_en(s, \"pthread_join\");\n",
            "\n",
            "               printf(\"Joined with thread %d; returned value was %s\\n\",\n",
            "                       tinfo[tnum].thread_num, (char *) res);\n",
            "               free(res);      /* Free memory allocated by thread */\n",
            "           }\n",
            "\n",
            "           free(tinfo);\n",
            "           exit(EXIT_SUCCESS);\n",
            "       }\n",
            "\n",
            "S\bSE\bEE\bE A\bAL\bLS\bSO\bO\n",
            "       g\bge\bet\btr\brl\bli\bim\bmi\bit\bt(2), p\bpt\bth\bhr\bre\bea\bad\bd_\b_a\bat\btt\btr\br_\b_i\bin\bni\bit\bt(3), p\bpt\bth\bhr\bre\bea\bad\bd_\b_c\bca\ban\bnc\bce\bel\bl(3), p\bpt\bth\bhr\bre\bea\bad\bd_\b_d\bde\bet\bta\bac\bch\bh(3),\n",
            "       p\bpt\bth\bhr\bre\bea\bad\bd_\b_e\beq\bqu\bua\bal\bl(3), p\bpt\bth\bhr\bre\bea\bad\bd_\b_e\bex\bxi\bit\bt(3), p\bpt\bth\bhr\bre\bea\bad\bd_\b_g\bge\bet\bta\bat\btt\btr\br_\b_n\bnp\bp(3), p\bpt\bth\bhr\bre\bea\bad\bd_\b_j\bjo\boi\bin\bn(3),\n",
            "       p\bpt\bth\bhr\bre\bea\bad\bd_\b_s\bse\bel\blf\bf(3), p\bpt\bth\bhr\bre\bea\bad\bd_\b_s\bse\bet\bta\bat\btt\btr\br_\b_d\bde\bef\bfa\bau\bul\blt\bt_\b_n\bnp\bp(3), p\bpt\bth\bhr\bre\bea\bad\bds\bs(7)\n",
            "\n",
            "C\bCO\bOL\bLO\bOP\bPH\bHO\bON\bN\n",
            "       This page is part of release 5.10 of the Linux _\bm_\ba_\bn_\b-_\bp_\ba_\bg_\be_\bs project.  A description of the\n",
            "       project, information about reporting bugs, and the latest version of this page, can be\n",
            "       found at https://www.kernel.org/doc/man-pages/.\n",
            "\n",
            "Linux                                       2020-11-01                          PTHREAD_CREATE(3)\n"
          ]
        }
      ]
    },
    {
      "cell_type": "markdown",
      "source": [
        "###Questão 06. Investigue em https://docs.oracle.com/cd/E19455-01/806-5257/attrib-34610/index.html os valores associados por padrão pelo método ```pthread_attr_init``` a varáveis do tipo ```pthread_attr_t```. Apresente o significado de cada um deles."
      ],
      "metadata": {
        "id": "aTDMPCPW36Fi"
      }
    },
    {
      "cell_type": "markdown",
      "source": [
        "###Questão 07. Na caixa de código a seguir, utilize o comando ``` man ``` para ``` pthread_join ```  e informe para que serve este comando."
      ],
      "metadata": {
        "id": "ZfExT7RgKyvx"
      }
    },
    {
      "cell_type": "code",
      "source": [],
      "metadata": {
        "id": "Kqc5kMAVLB9v"
      },
      "execution_count": null,
      "outputs": []
    },
    {
      "cell_type": "markdown",
      "source": [
        "## 3.Threads em modo Kernel\n",
        "- No linux, threads são tasks\n",
        "  - Tanto threads como processos são tarefas. No entanto, thread é uma tarefa que compartilha recursos.\n",
        "  - A criação de threads é feita através da função clone():\n",
        "  ```\n",
        "    int clone(int (*fn)(void *), void *stack, int flags, void *arg)\n",
        "  ```\n",
        "  \n",
        "    onde:\n",
        "    - fn:ponteiro para função\n",
        "    - stack: ponteiro para o topo da stack\n",
        "    - flags: parâmetros que sinalizam o tipo de thread a ser gerado.\n",
        "    - arg: parâmetro da função\n",
        "\n",
        "- A seguir, temos código que apresenta exemplo de uso de clone. Execute-o para gerar o arquivo ```clone.c```.\n"
      ],
      "metadata": {
        "id": "SA9hPMZc3sKM"
      }
    },
    {
      "cell_type": "code",
      "source": [
        "%%writefile clone.c\n",
        "#define _GNU_SOURCE\n",
        "#include <sched.h>\n",
        "#include <stdio.h>\n",
        "#include <stdlib.h>\n",
        "#include <sys/wait.h>\n",
        "const int STACK_SIZE=65536; // Tamanho da Stack (65536 bytes ou 64 KiB).\n",
        "\n",
        "\n",
        "// Codigo da Thread\n",
        "int thread_code(void *arg){\n",
        "   int i = 0;\n",
        "   int n = atoi(arg);\n",
        "   printf(\"Executando na tarefa filha %d \\n\", n);\n",
        "   for ( i = 1 ; i <= 10 ; i++ )\n",
        "      printf(\"\\t thread(%d) = %d * %d = %d\\n\", n, n, i, (n*i));\n",
        "   printf(\"\\n\");\n",
        "   return 0;\n",
        "}\n",
        "\n",
        "void main(int argc, char *argv[]){\n",
        "  // Ponteiro para a base e topo da Stack\n",
        "   void* stack_base[argc-1];\n",
        "   void* stack_top[argc-1];\n",
        "\n",
        "   // ID de cada thread\n",
        "   int  pid[argc-1];\n",
        "\n",
        "   for (int j = 1; j < argc; j++){\n",
        "     // Alocacao das Stacks de cada thread\n",
        "   \t stack_base[j-1] = malloc(STACK_SIZE);\n",
        "     if(stack_base[j-1]==NULL) {\n",
        "        perror(\"malloc\");\n",
        "        exit(1);\n",
        "     }\n",
        "         // Topo da stack = base + tamanho da stack\n",
        "     stack_top[j-1] = stack_base[j-1] + STACK_SIZE;\n",
        "   }\n",
        "\n",
        "   printf (\"Foi alocado espaco para (%d) threads\\n\", argc-1);\n",
        "   for (int j = 1; j < argc; j++){\n",
        "        // Criando Threads\n",
        "        pid[j-1] = clone(thread_code, stack_top[j-1], CLONE_VM | CLONE_FS | CLONE_FILES | CLONE_SIGHAND, argv[j]);\n",
        "        if (pid[j-1] < 0) {\n",
        "            printf(\"Erro: Nao foi possivel criar a thread.\\n\");\n",
        "            exit(EXIT_FAILURE);\n",
        "        }\n",
        "   }\n",
        "\n",
        "   // Aguarda término das threads\n",
        "   for (int j = 1; j < argc; j ++)\n",
        "      wait(&pid[j-1]);\n",
        "\n",
        "   // Libera stack de cada thread\n",
        "   for (int j = 1; j < argc; j++){\n",
        "     free(stack_base[j-1]);\n",
        "   }\n",
        "   printf(\"Threads filhas finalizadas.\\n\");\n",
        "}\n"
      ],
      "metadata": {
        "colab": {
          "base_uri": "https://localhost:8080/",
          "height": 0
        },
        "id": "_fcRwhBpDoWH",
        "outputId": "c0b495ee-8857-4c80-97c1-f40245f84151"
      },
      "execution_count": 30,
      "outputs": [
        {
          "output_type": "stream",
          "name": "stdout",
          "text": [
            "Writing clone.c\n"
          ]
        }
      ]
    },
    {
      "cell_type": "markdown",
      "source": [
        "Para executar os comandos presentes no shell, utilizamos ```!``` antes do comando almejado.\n",
        "A seguir, chamamos o gcc para compilar o código, gerando como saída o executável ```clonebin```.  Em seguida, usamos ```./clonebin 1 2``` para executação do programa."
      ],
      "metadata": {
        "id": "9ETCrOXXE-36"
      }
    },
    {
      "cell_type": "code",
      "source": [
        "!gcc clone.c -o clonebin"
      ],
      "metadata": {
        "id": "8lbUN0OYFNXN"
      },
      "execution_count": 31,
      "outputs": []
    },
    {
      "cell_type": "code",
      "source": [
        "! ./clonebin 1 2"
      ],
      "metadata": {
        "colab": {
          "base_uri": "https://localhost:8080/",
          "height": 0
        },
        "id": "QapV7-e7FXFQ",
        "outputId": "18f2a42f-51a4-4bcb-d3a5-9640419618e3"
      },
      "execution_count": 33,
      "outputs": [
        {
          "output_type": "stream",
          "name": "stdout",
          "text": [
            "Foi alocado espaco para (2) threads\n",
            "Processos filho finalizado.\n",
            "Executando na tarefa filha 2 \n",
            "\t thread(2) = 2 * 1 = 2\n",
            "\t thread(2) = 2 * 2 = 4\n",
            "\t thread(2) = 2 * 3 = 6\n",
            "\t thread(2) = 2 * 4 = 8\n",
            "\t thread(2) = 2 * 5 = 10\n",
            "\t thread(2) = 2 * 6 = 12\n",
            "\t thread(2) = 2 * 7 = 14\n",
            "\t thread(2) = 2 * 8 = 16\n",
            "\t thread(2) = 2 * 9 = 18\n",
            "\t thread(2) = 2 * 10 = 20\n",
            "\n",
            "Executando na tarefa filha 1 \n",
            "\t thread(1) = 1 * 1 = 1\n",
            "\t thread(1) = 1 * 2 = 2\n",
            "\t thread(1) = 1 * 3 = 3\n",
            "\t thread(1) = 1 * 4 = 4\n",
            "\t thread(1) = 1 * 5 = 5\n",
            "\t thread(1) = 1 * 6 = 6\n",
            "\t thread(1) = 1 * 7 = 7\n",
            "\t thread(1) = 1 * 8 = 8\n",
            "\t thread(1) = 1 * 9 = 9\n",
            "\t thread(1) = 1 * 10 = 10\n",
            "\n"
          ]
        }
      ]
    },
    {
      "cell_type": "markdown",
      "source": [
        "###Questão 08. O que foi impresso ao final da execução de ``` ./clonebin 1 2 ``` ? Na linha de código abaixo faça uma nova execução, chamando o programa da seguinte forma: ``` ./clonebin 5 6 7 8 ```. O que foi impresso?"
      ],
      "metadata": {
        "id": "CgucvwKdFrVI"
      }
    },
    {
      "cell_type": "code",
      "source": [
        "! ./clonebin 5 6 7 8"
      ],
      "metadata": {
        "colab": {
          "base_uri": "https://localhost:8080/",
          "height": 0
        },
        "id": "cTjq2s9SGAZY",
        "outputId": "7ce1d905-4c9d-44f7-b9b1-7991b9fb4764"
      },
      "execution_count": 36,
      "outputs": [
        {
          "output_type": "stream",
          "name": "stdout",
          "text": [
            "Foi alocado espaco para (4) threads\n",
            "Processos filho finalizado.\n",
            "EEExecutando na tarefa filha 5 \n",
            "\t thread(5) = 5 * 1 = 5\n",
            "\t thread(5) = 5 * 2 = 10\n",
            "\t thread(5) = 5 * 3 = 15\n",
            "\t thread(5) = 5 * 4 = 20\n",
            "\t thread(5) = 5 * 5 = 25\n",
            "\tExecutando na tarefa filha 8 \n",
            "\t thread(8) = 8 * 1 = 8\n",
            "\t thread(8) = 8 * 2 = 16\n",
            "xecutando na tarefa filha 6 \n",
            "\t\t thread(8) = 8 * 3 = 24\n",
            " thread(6) = 6 * 1 = 6\n",
            "\t\t thread(8) = 8 * 4 = 32\n",
            " thread(6) = 6 * 2 = 12\n",
            "\t\t thread(8) = 8 * 5 = 40\n",
            " thread(6) = 6 * 3 = 18\n",
            "\t\t thread(8) = 8 * 6 = 48\n",
            " thread(6) = 6 * 4 = 24\n",
            "\t\t\t thread(8) = 8 * 7 = 56\n",
            " thread(5) = 5 * 6 = 30\n",
            " thread(6) = 6 * 5 = 30\n",
            "\t thread(5) = 5 * 7 = 35\n",
            "\t thread(5) = 5 * 8 = 40\n",
            "\t thread(5) = 5 * 9 = 45\n",
            "\t thread(5) = 5 * 10 = 50\n",
            "\n",
            "\n",
            "Executando na tarefa filha 7 \n",
            "\t\t thread(6) = 6 * 6 = 36\n",
            "\t thread(6) = 6 * 7 = 42\n",
            "\t thread(6) = 6 * 8 = 48\n",
            "\t thread(8) = 8 * 8 = 64\n",
            " thread(6) = 6 * 9 = 54\n",
            "\t\t thread(8) = 8 * 9 = 72\n",
            " thread(6) = 6 * 10 = 60\n",
            "\n",
            "\t thread(8) = 8 * 10 = 80\n",
            "\n",
            "\n",
            " thread(7) = 7 * 1 = 7\n",
            "\t thread(7) = 7 * 2 = 14\n",
            "\t thread(7) = 7 * 3 = 21\n",
            "\t thread(7) = 7 * 4 = 28\n",
            "\t thread(7) = 7 * 5 = 35\n",
            "\t thread(7) = 7 * 6 = 42\n",
            "\t thread(7) = 7 * 7 = 49\n",
            "\t thread(7) = 7 * 8 = 56\n",
            "\t thread(7) = 7 * 9 = 63\n",
            "\t thread(7) = 7 * 10 = 70\n",
            "\n"
          ]
        }
      ]
    },
    {
      "cell_type": "markdown",
      "source": [
        "### Questão 09. Execute por mais vezes a chamada ``` ./clonebin 5 6 7 8 ```. As respostas de cada thread sempre são impressas na mesma ordem ou há mistura. ? Caso ocorra mistura, qual o motivo que leva a essa mistura?"
      ],
      "metadata": {
        "id": "epAgsetaGB7u"
      }
    },
    {
      "cell_type": "code",
      "source": [],
      "metadata": {
        "id": "WTzNFxZtJApc"
      },
      "execution_count": null,
      "outputs": []
    },
    {
      "cell_type": "markdown",
      "source": [
        "###Questão 10. Explique o que está sendo feito na função ``` int thread_code(void *arg)``` (linhas 11-19).\n"
      ],
      "metadata": {
        "id": "65zLwJZCHiHY"
      }
    },
    {
      "cell_type": "markdown",
      "source": [
        "###Questão 11. Na caixa de código a seguir, execute o comando ``` man ``` para a função ``` clone ```. Extraia do manual de ``` clone ```:\n",
        "1. Para que serve a função clone?\n",
        "2. Para que serve as constantes ``` CLONE_VM ```, ``` CLONE_FS ```, ``` CLONE_FILES ```, ``` CLONE_SIGHAND``` usadas pelo código na linha 43."
      ],
      "metadata": {
        "id": "NtHYt_ZUH4Cw"
      }
    },
    {
      "cell_type": "code",
      "source": [],
      "metadata": {
        "id": "7Y3GVDcFIkjt"
      },
      "execution_count": null,
      "outputs": []
    },
    {
      "cell_type": "markdown",
      "source": [
        "###Questão 12. Para que serve a região de memória denominada stack? Threads possuem stack. Elas são individuais ou compartilhadas, justifique."
      ],
      "metadata": {
        "id": "ptG4ygVtJLn6"
      }
    },
    {
      "cell_type": "markdown",
      "source": [
        "###Questão 13. Em clone.c qual o tamanho da stack adotada por cada thread? Explique o que acontece nas linhas [22-38] do código."
      ],
      "metadata": {
        "id": "RQRKkoyMJ9IC"
      }
    },
    {
      "cell_type": "markdown",
      "source": [
        "## 4.Criando processos filhos\n",
        "- Um processo é um programa em execução.\n",
        "- A criação de processos no Linux, pode ser feita através do método fork(), presente em unistd.h\n",
        "  - ``` pid_t fork(void); ```\n",
        "- fork cria um novo processo, através da duplicação do processo que gerou a chamada. O novo processo é denominado ﬁlho. O antigo,pai.\n",
        "- Filho e pai executam em espaços de memória diferentes, porém apresentam o mesmo código.\n",
        "- A seguir, apresentamos um exemplo de código ilustrando seu uso. Execute-o para gerar o arquivo ``` exemplo01.c ```"
      ],
      "metadata": {
        "id": "FkSDOteLSIpN"
      }
    },
    {
      "cell_type": "code",
      "source": [
        "%%writefile exemplo01.c\n",
        "#include <stdio.h>\n",
        "#include <sys/types.h>\n",
        "#include <unistd.h>\n",
        "#include <wait.h>\n",
        "\n",
        "int valor = 5;\n",
        "\n",
        "int main(){\n",
        "\tpid_t pid;\n",
        "\n",
        "\tpid = fork();\n",
        "\n",
        "\tif (pid == 0) {\n",
        "\t\tvalor += 15;\n",
        "    printf (\"Processo filho: valor = %d\\n\",valor);\n",
        "\t\treturn 0;\n",
        "\t}\n",
        "\telse if (pid > 0) {\n",
        "\t\twait(NULL);\n",
        "\t\tprintf (\"Processo pai: valor = %d\\n\",valor); /* LINE A */\n",
        "\t\treturn 0;\n",
        "\t}\n",
        "}"
      ],
      "metadata": {
        "colab": {
          "base_uri": "https://localhost:8080/"
        },
        "id": "fQQc-YeKTALu",
        "outputId": "5d1a3c70-4952-48ec-afc4-406885b47f28"
      },
      "execution_count": 48,
      "outputs": [
        {
          "output_type": "stream",
          "name": "stdout",
          "text": [
            "Overwriting exemplo01.c\n"
          ]
        }
      ]
    },
    {
      "cell_type": "markdown",
      "source": [
        "Para executar os comandos presentes no shell, utilizamos ```!``` antes do comando almejado.\n",
        "A seguir, chamamos o gcc para compilar o código, gerando como saída o executável ```clonebin```.  Em seguida, usamos ```./clonebin 1 2``` para executação do programa."
      ],
      "metadata": {
        "id": "2yAeoGTpTmLs"
      }
    },
    {
      "cell_type": "code",
      "source": [
        "!gcc exemplo01.c -o exemplo01bin"
      ],
      "metadata": {
        "id": "bgCwJ7B_T6B8"
      },
      "execution_count": 49,
      "outputs": []
    },
    {
      "cell_type": "code",
      "source": [
        "!./exemplo01bin"
      ],
      "metadata": {
        "colab": {
          "base_uri": "https://localhost:8080/"
        },
        "id": "UxVarVvVT5mi",
        "outputId": "96d979a6-ab29-4591-b6e7-e7e66e60dca2"
      },
      "execution_count": 50,
      "outputs": [
        {
          "output_type": "stream",
          "name": "stdout",
          "text": [
            "Processo filho: valor = 20\n",
            "Processo pai: valor = 5\n"
          ]
        }
      ]
    },
    {
      "cell_type": "markdown",
      "source": [
        "##Questão 14. Porque o processo pai e o processo filho apresentam valores diferentes para a variável global valor?"
      ],
      "metadata": {
        "id": "dUTwgR3RVPwh"
      }
    },
    {
      "cell_type": "markdown",
      "source": [
        "###Questão 15. Na caixa de código abaixo, use o comando ``` man ``` para consultar a função ``` fork ```. Qual o valor que ``` fork ``` devolve para o processo pai e para o processo filho?"
      ],
      "metadata": {
        "id": "r9YQSQCxVwyz"
      }
    },
    {
      "cell_type": "code",
      "source": [],
      "metadata": {
        "id": "jw6_AGNEWmjh"
      },
      "execution_count": null,
      "outputs": []
    },
    {
      "cell_type": "markdown",
      "source": [
        "###Questão 16. ``` getpid ``` é uma função que devolve o ``` process id ``` (identificador único) do processo em execução. Baseado nessa informação, execute as seguintes caixas de código para geração do arquivo ``` exemplo02.c ```, compilação e execução."
      ],
      "metadata": {
        "id": "Dn2UCjPcWziZ"
      }
    },
    {
      "cell_type": "code",
      "source": [
        "%%writefile exemplo02.c\n",
        "#include <stdio.h>\n",
        "#include <unistd.h>\n",
        "\n",
        "int main()\n",
        "{\n",
        "\tprintf(\"%d\\n\",getpid());\n",
        "\tfork();\n",
        "\tprintf(\"%d\\n\",getpid());\n",
        "\n",
        "\n",
        "\tfork();\n",
        "\tprintf(\"%d\\n\",getpid());\n",
        "\n",
        "\tfork();\n",
        "\tprintf(\"%d\\n\",getpid());\n",
        "\n",
        "\treturn 0;\n",
        "}"
      ],
      "metadata": {
        "colab": {
          "base_uri": "https://localhost:8080/"
        },
        "id": "GGopYPyWXtNH",
        "outputId": "26df557c-c928-4ec5-f7f4-299e7e4de9cc"
      },
      "execution_count": 51,
      "outputs": [
        {
          "output_type": "stream",
          "name": "stdout",
          "text": [
            "Writing exemplo02.c\n"
          ]
        }
      ]
    },
    {
      "cell_type": "code",
      "source": [
        "!gcc exemplo02.c -o exemplo02bin"
      ],
      "metadata": {
        "id": "iMGgBpcAXtiz"
      },
      "execution_count": 52,
      "outputs": []
    },
    {
      "cell_type": "code",
      "source": [
        "!./exemplo02bin"
      ],
      "metadata": {
        "colab": {
          "base_uri": "https://localhost:8080/"
        },
        "id": "ceKiIwVFXuBg",
        "outputId": "0871e6e8-e99b-42c7-bd77-8fdad66fa8e0"
      },
      "execution_count": 53,
      "outputs": [
        {
          "output_type": "stream",
          "name": "stdout",
          "text": [
            "72770\n",
            "72770\n",
            "72770\n",
            "72770\n",
            "72773\n",
            "72772\n",
            "72772\n",
            "72771\n",
            "72771\n",
            "72771\n",
            "72774\n",
            "72776\n",
            "72775\n",
            "72775\n",
            "72777\n"
          ]
        }
      ]
    },
    {
      "cell_type": "markdown",
      "source": [
        "###Questão 17. Baseado na execução da Questão 16, o que significam os números que foram impressos? Quantos números diferentes temos após a execução do código? Quantos processos foram criados durante a execução desse código?"
      ],
      "metadata": {
        "id": "OInYBGRzYsUL"
      }
    },
    {
      "cell_type": "markdown",
      "source": [
        "###Questão 18. É possível associar uma fórmula que informe a quantidade de processos criados a depender da quantidade de forks? Considere ``` n```, como sendo a quantidade de forks e ``` nps ```, como sendo a quantidade de processos criados."
      ],
      "metadata": {
        "id": "_XyiZuQjZhSp"
      }
    },
    {
      "cell_type": "markdown",
      "source": [
        "###Questão 19. Use as caixas de código a seguir para modificar, compilar e executar ``` 10processos.c ```. Ao final da execução de ``` 10processos.c ```, devem ser gerados 10 processos."
      ],
      "metadata": {
        "id": "PxSQ0pFpaO-J"
      }
    },
    {
      "cell_type": "code",
      "source": [
        "%%writefile 10processos.c\n",
        "#include <stdio.h>\n",
        "#include <unistd.h>\n",
        "\n",
        "int main()\n",
        "{\n",
        "\tprintf(\"%d\\n\",getpid());\n",
        "\tfork();\n",
        "\tprintf(\"%d\\n\",getpid());\n",
        "\n",
        "\n",
        "\tfork();\n",
        "\tprintf(\"%d\\n\",getpid());\n",
        "\n",
        "\tfork();\n",
        "\tprintf(\"%d\\n\",getpid());\n",
        "\n",
        "\treturn 0;\n",
        "}"
      ],
      "metadata": {
        "id": "slb5tuXbacmB"
      },
      "execution_count": null,
      "outputs": []
    },
    {
      "cell_type": "code",
      "source": [
        "!gcc 10processos.c -o 10processosbin"
      ],
      "metadata": {
        "id": "pg8vO4hjadTb"
      },
      "execution_count": null,
      "outputs": []
    },
    {
      "cell_type": "code",
      "source": [
        "!./10processosbin"
      ],
      "metadata": {
        "id": "zM_q0uyladH9"
      },
      "execution_count": null,
      "outputs": []
    }
  ]
}